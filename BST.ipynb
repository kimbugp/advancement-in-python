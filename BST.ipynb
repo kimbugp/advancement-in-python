{
 "cells": [
  {
   "cell_type": "code",
   "execution_count": 97,
   "metadata": {},
   "outputs": [],
   "source": [
    "class Node():\n",
    "    def __init__(self,data,obj):\n",
    "        self.left:Node = None\n",
    "        self.right:Node = None\n",
    "        self.data = data\n",
    "        self.obj = obj\n",
    "        \n",
    "    def insert(self, data,obj):\n",
    "        if data>self.data:\n",
    "            if self.right:\n",
    "                self.right.insert(data,obj)\n",
    "            else:\n",
    "                self.right = Node(data,obj)\n",
    "        else:\n",
    "            if self.left:\n",
    "                self.left.insert(data,obj)\n",
    "            else:\n",
    "                self.left = Node(data,obj)\n",
    "                \n",
    "    def find(self,value):\n",
    "        if self.data == value:\n",
    "            return self.obj\n",
    "        elif value > self.data:\n",
    "            if self.right:\n",
    "                return self.right.find(value)\n",
    "            else:\n",
    "                return False\n",
    "        else:\n",
    "            if self.left: \n",
    "                return self.left.find(value)\n",
    "            else:\n",
    "                return False    \n",
    "            \n",
    "    def find_all_in_order(self):\n",
    "        if self.left:\n",
    "            self.left.find_all_in_order()\n",
    "        print(self.obj)\n",
    "        if self.right:\n",
    "            self.right.find_all_in_order()\n",
    "    \n",
    "    def find_all_pre_order(self):\n",
    "        print(self.obj)\n",
    "        if self.left:\n",
    "            self.left.find_all_pre_order()\n",
    "        if self.right:\n",
    "            self.right.find_all_pre_order()     \n",
    "    \n",
    "    def find_all_post_order(self):\n",
    "        if self.left:\n",
    "            self.left.find_all_post_order()\n",
    "        if self.right:\n",
    "            self.right.find_all_post_order()   \n",
    "        print(self.obj)\n",
    "        \n",
    "    def lca(self, v1, v2):\n",
    "        'find the lowest common ancestor'\n",
    "        if v1 > self.data and v2 > self.data:\n",
    "            return self.right.lca(v1, v2)\n",
    "        elif v1 < self.data and v2 < self.data:\n",
    "            return self.left.lca(v1, v2)\n",
    "        return self.data\n",
    "    \n",
    "    def swap_kth_level(self,k,level=0):\n",
    "        if not self.data or self.left and self.right:\n",
    "            return \n",
    "        if (level+1)%k==0:\n",
    "            self.left,self.right = self.right,self.left\n",
    "        self.left.swap_kth_level(k,level+1)\n",
    "        self.right.swap_kth_level(k,level+1)\n",
    "    \n",
    "bst = Node(8,{'id':8,'name':'name'})"
   ]
  },
  {
   "cell_type": "code",
   "execution_count": 98,
   "metadata": {},
   "outputs": [
    {
     "data": {
      "text/plain": [
       "[None, None, None, None, None, None, None, None]"
      ]
     },
     "execution_count": 98,
     "metadata": {},
     "output_type": "execute_result"
    }
   ],
   "source": [
    "[bst.insert(x,{'id':x,'name':'name'}) for x in [3,10,1,6,14,4,7,13]]"
   ]
  },
  {
   "cell_type": "code",
   "execution_count": 99,
   "metadata": {},
   "outputs": [
    {
     "data": {
      "text/plain": [
       "{'id': 1, 'name': 'name'}"
      ]
     },
     "execution_count": 99,
     "metadata": {},
     "output_type": "execute_result"
    }
   ],
   "source": [
    "bst.find(1)"
   ]
  },
  {
   "cell_type": "code",
   "execution_count": 100,
   "metadata": {},
   "outputs": [
    {
     "data": {
      "text/plain": [
       "False"
      ]
     },
     "execution_count": 100,
     "metadata": {},
     "output_type": "execute_result"
    }
   ],
   "source": [
    "bst.find(5)"
   ]
  },
  {
   "cell_type": "code",
   "execution_count": 101,
   "metadata": {},
   "outputs": [
    {
     "name": "stdout",
     "output_type": "stream",
     "text": [
      "{'id': 1, 'name': 'name'}\n",
      "{'id': 3, 'name': 'name'}\n",
      "{'id': 4, 'name': 'name'}\n",
      "{'id': 6, 'name': 'name'}\n",
      "{'id': 7, 'name': 'name'}\n",
      "{'id': 8, 'name': 'name'}\n",
      "{'id': 10, 'name': 'name'}\n",
      "{'id': 13, 'name': 'name'}\n",
      "{'id': 14, 'name': 'name'}\n"
     ]
    }
   ],
   "source": [
    "bst.find_all_in_order()"
   ]
  },
  {
   "cell_type": "code",
   "execution_count": 102,
   "metadata": {},
   "outputs": [
    {
     "name": "stdout",
     "output_type": "stream",
     "text": [
      "{'id': 8, 'name': 'name'}\n",
      "{'id': 3, 'name': 'name'}\n",
      "{'id': 1, 'name': 'name'}\n",
      "{'id': 6, 'name': 'name'}\n",
      "{'id': 4, 'name': 'name'}\n",
      "{'id': 7, 'name': 'name'}\n",
      "{'id': 10, 'name': 'name'}\n",
      "{'id': 14, 'name': 'name'}\n",
      "{'id': 13, 'name': 'name'}\n"
     ]
    }
   ],
   "source": [
    "bst.find_all_pre_order()"
   ]
  },
  {
   "cell_type": "code",
   "execution_count": 103,
   "metadata": {},
   "outputs": [
    {
     "name": "stdout",
     "output_type": "stream",
     "text": [
      "{'id': 1, 'name': 'name'}\n",
      "{'id': 4, 'name': 'name'}\n",
      "{'id': 7, 'name': 'name'}\n",
      "{'id': 6, 'name': 'name'}\n",
      "{'id': 3, 'name': 'name'}\n",
      "{'id': 13, 'name': 'name'}\n",
      "{'id': 14, 'name': 'name'}\n",
      "{'id': 10, 'name': 'name'}\n",
      "{'id': 8, 'name': 'name'}\n"
     ]
    }
   ],
   "source": [
    "bst.find_all_post_order()"
   ]
  },
  {
   "cell_type": "code",
   "execution_count": 104,
   "metadata": {},
   "outputs": [
    {
     "data": {
      "text/plain": [
       "8"
      ]
     },
     "execution_count": 104,
     "metadata": {},
     "output_type": "execute_result"
    }
   ],
   "source": [
    "bst.lca(13,7)"
   ]
  },
  {
   "cell_type": "code",
   "execution_count": 105,
   "metadata": {},
   "outputs": [],
   "source": [
    "bst.swap_kth_level(3)"
   ]
  },
  {
   "cell_type": "code",
   "execution_count": 106,
   "metadata": {},
   "outputs": [
    {
     "name": "stdout",
     "output_type": "stream",
     "text": [
      "{'id': 1, 'name': 'name'}\n",
      "{'id': 3, 'name': 'name'}\n",
      "{'id': 4, 'name': 'name'}\n",
      "{'id': 6, 'name': 'name'}\n",
      "{'id': 7, 'name': 'name'}\n",
      "{'id': 8, 'name': 'name'}\n",
      "{'id': 10, 'name': 'name'}\n",
      "{'id': 13, 'name': 'name'}\n",
      "{'id': 14, 'name': 'name'}\n"
     ]
    }
   ],
   "source": [
    "bst.find_all_in_order()"
   ]
  },
  {
   "cell_type": "code",
   "execution_count": null,
   "metadata": {},
   "outputs": [],
   "source": []
  }
 ],
 "metadata": {
  "kernelspec": {
   "display_name": "Python 3",
   "language": "python",
   "name": "python3"
  },
  "language_info": {
   "codemirror_mode": {
    "name": "ipython",
    "version": 3
   },
   "file_extension": ".py",
   "mimetype": "text/x-python",
   "name": "python",
   "nbconvert_exporter": "python",
   "pygments_lexer": "ipython3",
   "version": "3.7.1"
  }
 },
 "nbformat": 4,
 "nbformat_minor": 2
}
