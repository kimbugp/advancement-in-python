{
 "cells": [
  {
   "cell_type": "code",
   "execution_count": 447,
   "metadata": {},
   "outputs": [],
   "source": [
    "class Node():\n",
    "    def __init__(self,data,obj=None):\n",
    "        self.left:Node = None\n",
    "        self.right:Node = None\n",
    "        self.data = data\n",
    "        self.obj = obj\n",
    "        \n",
    "    def insert(self, data,obj=None):\n",
    "        if data>self.data:\n",
    "            if self.right:\n",
    "                self.right.insert(data,obj)\n",
    "            else:\n",
    "                self.right = Node(data,obj)\n",
    "        else:\n",
    "            if self.left:\n",
    "                self.left.insert(data,obj)\n",
    "            else:\n",
    "                self.left = Node(data,obj)\n",
    "                \n",
    "    def find(self,value):\n",
    "        if self.data == value:\n",
    "            return self.obj\n",
    "        elif value > self.data:\n",
    "            if self.right:\n",
    "                return self.right.find(value)\n",
    "            else:\n",
    "                return False\n",
    "        else:\n",
    "            if self.left: \n",
    "                return self.left.find(value)\n",
    "            else:\n",
    "                return False    \n",
    "            \n",
    "    def find_all_in_order(self):\n",
    "        if self.left:\n",
    "            self.left.find_all_in_order()\n",
    "        print(self.obj)\n",
    "        if self.right:\n",
    "            self.right.find_all_in_order()\n",
    "    \n",
    "    def find_all_pre_order(self):\n",
    "        print(self.obj)\n",
    "        if self.left:\n",
    "            self.left.find_all_pre_order()\n",
    "        if self.right:\n",
    "            self.right.find_all_pre_order()     \n",
    "    \n",
    "    def find_all_post_order(self):\n",
    "        if self.left:\n",
    "            self.left.find_all_post_order()\n",
    "        if self.right:\n",
    "            self.right.find_all_post_order()   \n",
    "        print(self.obj)\n",
    "        \n",
    "    def lca(self, v1, v2):\n",
    "        'find the lowest common ancestor'\n",
    "        if v1 > self.data and v2 > self.data:\n",
    "            return self.right.lca(v1, v2)\n",
    "        elif v1 < self.data and v2 < self.data:\n",
    "            return self.left.lca(v1, v2)\n",
    "        return self.data\n",
    "    \n",
    "    def swap_kth_level(self,k,level=0):\n",
    "        if not self.data or self.left and self.right:\n",
    "            return \n",
    "        if (level+1)%k==0:\n",
    "            self.left,self.right = self.right,self.left\n",
    "        self.left.swap_kth_level(k,level+1)\n",
    "        self.right.swap_kth_level(k,level+1)\n",
    "    \n",
    "bst = Node(8,{'id':8,'name':'name'})"
   ]
  },
  {
   "cell_type": "code",
   "execution_count": 448,
   "metadata": {},
   "outputs": [
    {
     "data": {
      "text/plain": [
       "[None, None, None, None, None, None, None, None]"
      ]
     },
     "execution_count": 448,
     "metadata": {},
     "output_type": "execute_result"
    }
   ],
   "source": [
    "[bst.insert(x,{'id':x,'name':'name'}) for x in [3,10,1,6,14,4,7,13]]"
   ]
  },
  {
   "cell_type": "code",
   "execution_count": 449,
   "metadata": {},
   "outputs": [
    {
     "data": {
      "text/plain": [
       "{'id': 1, 'name': 'name'}"
      ]
     },
     "execution_count": 449,
     "metadata": {},
     "output_type": "execute_result"
    }
   ],
   "source": [
    "bst.find(1)"
   ]
  },
  {
   "cell_type": "code",
   "execution_count": 450,
   "metadata": {},
   "outputs": [
    {
     "data": {
      "text/plain": [
       "False"
      ]
     },
     "execution_count": 450,
     "metadata": {},
     "output_type": "execute_result"
    }
   ],
   "source": [
    "bst.find(5)"
   ]
  },
  {
   "cell_type": "code",
   "execution_count": 451,
   "metadata": {},
   "outputs": [
    {
     "name": "stdout",
     "output_type": "stream",
     "text": [
      "{'id': 1, 'name': 'name'}\n",
      "{'id': 3, 'name': 'name'}\n",
      "{'id': 4, 'name': 'name'}\n",
      "{'id': 6, 'name': 'name'}\n",
      "{'id': 7, 'name': 'name'}\n",
      "{'id': 8, 'name': 'name'}\n",
      "{'id': 10, 'name': 'name'}\n",
      "{'id': 13, 'name': 'name'}\n",
      "{'id': 14, 'name': 'name'}\n"
     ]
    }
   ],
   "source": [
    "bst.find_all_in_order()"
   ]
  },
  {
   "cell_type": "code",
   "execution_count": 452,
   "metadata": {},
   "outputs": [
    {
     "name": "stdout",
     "output_type": "stream",
     "text": [
      "{'id': 8, 'name': 'name'}\n",
      "{'id': 3, 'name': 'name'}\n",
      "{'id': 1, 'name': 'name'}\n",
      "{'id': 6, 'name': 'name'}\n",
      "{'id': 4, 'name': 'name'}\n",
      "{'id': 7, 'name': 'name'}\n",
      "{'id': 10, 'name': 'name'}\n",
      "{'id': 14, 'name': 'name'}\n",
      "{'id': 13, 'name': 'name'}\n"
     ]
    }
   ],
   "source": [
    "bst.find_all_pre_order()"
   ]
  },
  {
   "cell_type": "code",
   "execution_count": 453,
   "metadata": {},
   "outputs": [
    {
     "name": "stdout",
     "output_type": "stream",
     "text": [
      "{'id': 1, 'name': 'name'}\n",
      "{'id': 4, 'name': 'name'}\n",
      "{'id': 7, 'name': 'name'}\n",
      "{'id': 6, 'name': 'name'}\n",
      "{'id': 3, 'name': 'name'}\n",
      "{'id': 13, 'name': 'name'}\n",
      "{'id': 14, 'name': 'name'}\n",
      "{'id': 10, 'name': 'name'}\n",
      "{'id': 8, 'name': 'name'}\n"
     ]
    }
   ],
   "source": [
    "bst.find_all_post_order()"
   ]
  },
  {
   "cell_type": "code",
   "execution_count": 454,
   "metadata": {},
   "outputs": [
    {
     "data": {
      "text/plain": [
       "8"
      ]
     },
     "execution_count": 454,
     "metadata": {},
     "output_type": "execute_result"
    }
   ],
   "source": [
    "bst.lca(13,7)"
   ]
  },
  {
   "cell_type": "code",
   "execution_count": 455,
   "metadata": {},
   "outputs": [],
   "source": [
    "bst.swap_kth_level(3)"
   ]
  },
  {
   "cell_type": "code",
   "execution_count": 456,
   "metadata": {},
   "outputs": [
    {
     "name": "stdout",
     "output_type": "stream",
     "text": [
      "{'id': 1, 'name': 'name'}\n",
      "{'id': 3, 'name': 'name'}\n",
      "{'id': 4, 'name': 'name'}\n",
      "{'id': 6, 'name': 'name'}\n",
      "{'id': 7, 'name': 'name'}\n",
      "{'id': 8, 'name': 'name'}\n",
      "{'id': 10, 'name': 'name'}\n",
      "{'id': 13, 'name': 'name'}\n",
      "{'id': 14, 'name': 'name'}\n"
     ]
    }
   ],
   "source": [
    "bst.find_all_in_order()"
   ]
  },
  {
   "cell_type": "markdown",
   "metadata": {},
   "source": [
    "## Check if tree is a sub tree of another\n"
   ]
  },
  {
   "cell_type": "code",
   "execution_count": 457,
   "metadata": {},
   "outputs": [],
   "source": [
    "def issubtree(parent:Node, subtree:Node):\n",
    "    if not subtree:\n",
    "        return True\n",
    "    else:\n",
    "        return match_trees(parent,subtree)\n",
    "\n",
    "def match_trees(parent,subtree):\n",
    "    if not parent:\n",
    "        return False\n",
    "    elif parent.data == subtree.data:\n",
    "        return True if matcher(parent,subtree) else False\n",
    "    return (match_trees(parent.left,subtree) or match_trees(parent.right,subtree))\n",
    "\n",
    "def matcher(parent,subtree):\n",
    "    if not parent and not subtree:\n",
    "        return True\n",
    "    if not parent or not subtree:\n",
    "        return False\n",
    "    return matcher(parent.left,subtree.left) and matcher(parent.right,subtree.right)\n",
    "\n",
    "    "
   ]
  },
  {
   "cell_type": "code",
   "execution_count": 458,
   "metadata": {},
   "outputs": [
    {
     "name": "stdout",
     "output_type": "stream",
     "text": [
      "{'id': 1, 'name': 'name'}\n",
      "{'id': 3, 'name': 'name'}\n",
      "{'id': 4, 'name': 'name'}\n",
      "{'id': 6, 'name': 'name'}\n",
      "{'id': 7, 'name': 'name'}\n",
      "\n",
      "\n",
      "{'id': 1, 'name': 'name'}\n",
      "{'id': 3, 'name': 'name'}\n",
      "{'id': 4, 'name': 'name'}\n",
      "{'id': 6, 'name': 'name'}\n",
      "{'id': 7, 'name': 'name'}\n",
      "{'id': 8, 'name': 'name'}\n",
      "{'id': 10, 'name': 'name'}\n",
      "{'id': 13, 'name': 'name'}\n",
      "{'id': 14, 'name': 'name'}\n"
     ]
    },
    {
     "data": {
      "text/plain": [
       "True"
      ]
     },
     "execution_count": 458,
     "metadata": {},
     "output_type": "execute_result"
    }
   ],
   "source": [
    "bst2 = Node(3,{'id':3,'name':'name'})\n",
    "[bst2.insert(x,{'id':x,'name':'name'}) for x in [1,6,4,7]]\n",
    "bst2.find_all_in_order()\n",
    "bst.find_all_in_order()\n",
    "issubtree(bst,bst2)"
   ]
  },
  {
   "cell_type": "code",
   "execution_count": null,
   "metadata": {},
   "outputs": [],
   "source": []
  }
 ],
 "metadata": {
  "kernelspec": {
   "display_name": "Python 3",
   "language": "python",
   "name": "python3"
  },
  "language_info": {
   "codemirror_mode": {
    "name": "ipython",
    "version": 3
   },
   "file_extension": ".py",
   "mimetype": "text/x-python",
   "name": "python",
   "nbconvert_exporter": "python",
   "pygments_lexer": "ipython3",
   "version": "3.7.1"
  }
 },
 "nbformat": 4,
 "nbformat_minor": 2
}
