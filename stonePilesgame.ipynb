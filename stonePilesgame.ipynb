{
 "cells": [
  {
   "cell_type": "markdown",
   "metadata": {},
   "source": [
    "There are `N` piles of stones where the `x`ith pile has  stones in it. Alice and Bob play the following game:\n",
    "\n",
    "Alice starts, and they alternate turns.\n",
    "\n",
    "In a turn, a player can choose any one of the piles of stones and divide the stones in it into any number of unequal piles such that no two of the newly created piles have the same number of stones. For example, if there 8 stones in a pile, it can be divided into one of these set of piles:`(1,2,4), (1,2,3`  or `(1,7) (2,6)` . \n",
    "\n",
    "The player who cannot make a move (because all the remaining piles are indivisible) loses the game.\n",
    "\n",
    "Given the starting set of piles, who wins the game assuming both players play optimally (that means they will not make a move that causes them to lose the game if some better, winning move exists)?\n",
    "\n",
    "Input Format\n",
    "\n",
    "The first line contains the number of test cases .  test cases follow. The first line for each test case contains , the number of piles initially. The next line contains  space delimited numbers, the number of stones in each of the piles.\n",
    "\n",
    "Constraints\n",
    "\n",
    "Output Format\n",
    "\n",
    "Output  lines, one corresponding to each test case containing ALICE if Alice wins the game and BOB otherwise."
   ]
  },
  {
   "cell_type": "code",
   "execution_count": 3,
   "metadata": {},
   "outputs": [
    {
     "name": "stdout",
     "output_type": "stream",
     "text": [
      "ALICE\n",
      "BOB\n"
     ]
    }
   ],
   "source": [
    "from collections import Counter\n",
    "\n",
    "def stonePiles(arr):\n",
    "    total = 0\n",
    "    # Get total occurrence of each item in array\n",
    "    counter = Counter(arr)\n",
    "\n",
    "    # End Numbers\n",
    "    # generate a list of 50 items \n",
    "    end_numbers = [0, 1]\n",
    "    while len(end_numbers) <= 50:\n",
    "        # Add the product of last item of end numbers\n",
    "        # and the length of end numbers\n",
    "        end_numbers += [end_numbers[-1] + 1] * len(end_numbers)\n",
    "\n",
    "    # sizes of piles that lead to loss\n",
    "    losing_numbers = [1, 2, 4, 8]\n",
    "\n",
    "    # Check if the nimber number theorem is satisfied\n",
    "    # For the 1 index user win, the XOR(n1,n2,n3,) should be equal 0\n",
    "    # else 1 index user\n",
    "    for size, count in counter.items():\n",
    "        if size not in losing_numbers and count & 1 != 0:\n",
    "            total ^= (size - min(4, end_numbers[size]))\n",
    "    return ('ALICE' if total != 0 else 'BOB')\n",
    "\n",
    "\n",
    "print(stonePiles([2, 20, 40, 60, 10, 10, 10]))\n",
    "print(stonePiles([2, 30, 40, 60, 10, 10, 10]))\n"
   ]
  }
 ],
 "metadata": {
  "kernelspec": {
   "display_name": "Python 3",
   "language": "python",
   "name": "python3"
  },
  "language_info": {
   "codemirror_mode": {
    "name": "ipython",
    "version": 3
   },
   "file_extension": ".py",
   "mimetype": "text/x-python",
   "name": "python",
   "nbconvert_exporter": "python",
   "pygments_lexer": "ipython3",
   "version": "3.7.1"
  }
 },
 "nbformat": 4,
 "nbformat_minor": 2
}
