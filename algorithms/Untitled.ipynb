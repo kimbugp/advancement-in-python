{
 "cells": [
  {
   "cell_type": "code",
   "execution_count": 3,
   "metadata": {},
   "outputs": [
    {
     "name": "stdout",
     "output_type": "stream",
     "text": [
      "YES\n",
      "NO\n",
      "YES\n"
     ]
    }
   ],
   "source": [
    "def isBalanced(s):\n",
    "    stack = []\n",
    "    for c in s:\n",
    "        if c == '(':\n",
    "            stack.append(0);\n",
    "        elif c == ')':\n",
    "            if len(stack) > 0 and stack[-1] == 0:\n",
    "                stack.pop()\n",
    "            else:\n",
    "                return 'NO'\n",
    "        elif c == '[':\n",
    "            stack.append(2)\n",
    "        elif c == ']':\n",
    "            if len(stack) > 0 and stack[-1] == 2:\n",
    "                stack.pop()\n",
    "            else:\n",
    "                return 'NO'\n",
    "        if c == '{':\n",
    "            stack.append(4)\n",
    "        elif c == '}':\n",
    "            if len(stack) > 0 and stack[-1] == 4:\n",
    "                stack.pop()\n",
    "            else:\n",
    "                return 'NO'\n",
    "    if len(stack) == 0:\n",
    "        return 'YES'\n",
    "    else:\n",
    "        return 'NO'\n",
    "\n",
    "data = [\"{[()]}\",\"{[(])}\",\"{{[[(())]]}}\"]\n",
    "\n",
    "for item in data:\n",
    "    print(isBalanced(item))\n"
   ]
  },
  {
   "cell_type": "code",
   "execution_count": null,
   "metadata": {},
   "outputs": [],
   "source": []
  }
 ],
 "metadata": {
  "kernelspec": {
   "display_name": "Python 3",
   "language": "python",
   "name": "python3"
  },
  "language_info": {
   "codemirror_mode": {
    "name": "ipython",
    "version": 3
   },
   "file_extension": ".py",
   "mimetype": "text/x-python",
   "name": "python",
   "nbconvert_exporter": "python",
   "pygments_lexer": "ipython3",
   "version": "3.7.1"
  }
 },
 "nbformat": 4,
 "nbformat_minor": 2
}
