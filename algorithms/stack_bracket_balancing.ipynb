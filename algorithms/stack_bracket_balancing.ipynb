{
 "cells": [
  {
   "cell_type": "markdown",
   "metadata": {},
   "source": [
    "## Syntax parsing using a stack\n",
    "### Bracket balancing \n",
    "A bracket is considered to be any one of the following characters: (, ), {, }, [, or ].\n",
    "\n",
    "Two brackets are considered to be a matched pair if the an opening bracket (i.e., (, [, or {) occurs to the left of a closing bracket (i.e., ), ], or }) of the exact same type. There are three types of matched pairs of brackets: [], {}, and ().\n",
    "\n",
    "A matching pair of brackets is not balanced if the set of brackets it encloses are not matched. For example, {[(])} is not balanced because the contents in between { and } are not balanced. The pair of square brackets encloses a single, unbalanced opening bracket, (, and the pair of parentheses encloses a single, unbalanced closing square bracket, ].\n",
    "\n",
    "By this logic, we say a sequence of brackets is balanced if the following conditions are met:\n",
    "\n",
    "It contains no unmatched brackets.\n",
    "The subset of brackets enclosed within the confines of a matched pair of brackets is also a matched pair of brackets.\n",
    "Given  strings of brackets, determine whether each sequence of brackets is balanced. If a string is balanced, return YES. Otherwise, return NO."
   ]
  },
  {
   "cell_type": "code",
   "execution_count": 3,
   "metadata": {},
   "outputs": [
    {
     "name": "stdout",
     "output_type": "stream",
     "text": [
      "True\n",
      "False\n",
      "True\n"
     ]
    }
   ],
   "source": [
    "def isBalanced(s):\n",
    "    stack = []\n",
    "    for c in s:\n",
    "        if c == '(':\n",
    "            stack.append(0);\n",
    "        elif c == ')':\n",
    "            if len(stack) > 0 and stack[-1] == 0:\n",
    "                stack.pop()\n",
    "            else:\n",
    "                return False\n",
    "        elif c == '[':\n",
    "            stack.append(2)\n",
    "        elif c == ']':\n",
    "            if len(stack) > 0 and stack[-1] == 2:\n",
    "                stack.pop()\n",
    "            else:\n",
    "                return False\n",
    "        if c == '{':\n",
    "            stack.append(4)\n",
    "        elif c == '}':\n",
    "            if len(stack) > 0 and stack[-1] == 4:\n",
    "                stack.pop()\n",
    "            else:\n",
    "                return False\n",
    "    if len(stack) == 0:\n",
    "        return True\n",
    "    else:\n",
    "        return False\n",
    "\n",
    "data = [\"{[()]}\",\"{[(])}\",\"{{[[(())]]}}\"]\n",
    "\n",
    "for item in data:\n",
    "    print(isBalanced(item))\n"
   ]
  },
  {
   "cell_type": "code",
   "execution_count": null,
   "metadata": {},
   "outputs": [],
   "source": []
  }
 ],
 "metadata": {
  "kernelspec": {
   "display_name": "Python 3",
   "language": "python",
   "name": "python3"
  },
  "language_info": {
   "codemirror_mode": {
    "name": "ipython",
    "version": 3
   },
   "file_extension": ".py",
   "mimetype": "text/x-python",
   "name": "python",
   "nbconvert_exporter": "python",
   "pygments_lexer": "ipython3",
   "version": "3.7.1"
  }
 },
 "nbformat": 4,
 "nbformat_minor": 2
}
