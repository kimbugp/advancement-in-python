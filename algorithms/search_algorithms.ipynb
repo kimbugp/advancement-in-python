{
 "cells": [
  {
   "cell_type": "code",
   "execution_count": 1,
   "metadata": {},
   "outputs": [],
   "source": [
    "import time \n",
    "def timeit(method):\n",
    "    def timed(*args, **kw):\n",
    "        start = time.time()\n",
    "        result = method(*args, **kw)\n",
    "        stop = time.time()\n",
    "        name = method.__name__.upper()\n",
    "        timed = stop - start\n",
    "        return result,timed\n",
    "    return timed"
   ]
  },
  {
   "cell_type": "markdown",
   "metadata": {},
   "source": [
    "### Binary Search Tree"
   ]
  },
  {
   "cell_type": "code",
   "execution_count": 2,
   "metadata": {},
   "outputs": [],
   "source": [
    "@timeit\n",
    "def binary_search(data, value):\n",
    "    n = len(data)\n",
    "    left = 0\n",
    "    right = n - 1\n",
    "    while left <= right:\n",
    "            middle = (left + right) // 2\n",
    "            if value < data[middle]:\n",
    "                right = middle - 1\n",
    "            elif value > data[middle]:\n",
    "                left = middle + 1\n",
    "            else:\n",
    "                return middle\n",
    "    raise ValueError('Value is not in the list')\n"
   ]
  },
  {
   "cell_type": "code",
   "execution_count": 3,
   "metadata": {},
   "outputs": [
    {
     "name": "stdout",
     "output_type": "stream",
     "text": [
      "10 3.0994415283203125e-06\n"
     ]
    }
   ],
   "source": [
    "data = [1, 2, 2, 3, 3, 4, 4, 10, 12, 45, 56]\n",
    "index, time1 = binary_search(data,56)\n",
    "print(index,time1)"
   ]
  },
  {
   "cell_type": "markdown",
   "metadata": {},
   "source": [
    "#### Linear Search Algorithms\n"
   ]
  },
  {
   "cell_type": "code",
   "execution_count": 4,
   "metadata": {},
   "outputs": [],
   "source": [
    "@timeit\n",
    "def linear_search(data, value):\n",
    "    for index,item in enumerate(data):\n",
    "        if item == value:\n",
    "            return index\n",
    "    raise ValueError('Value not found in the list')"
   ]
  },
  {
   "cell_type": "code",
   "execution_count": 5,
   "metadata": {},
   "outputs": [
    {
     "name": "stdout",
     "output_type": "stream",
     "text": [
      "10 1.9073486328125e-06\n"
     ]
    }
   ],
   "source": [
    "index, time2 = linear_search(data,56)\n",
    "print(index,time2)"
   ]
  },
  {
   "cell_type": "code",
   "execution_count": 6,
   "metadata": {},
   "outputs": [
    {
     "name": "stdout",
     "output_type": "stream",
     "text": [
      "From the timing binary search is 1.625 faster than linear search\n"
     ]
    }
   ],
   "source": [
    "print(\"From the timing binary search is {0} faster than linear search\".format(time1/time2))"
   ]
  },
  {
   "cell_type": "code",
   "execution_count": null,
   "metadata": {},
   "outputs": [],
   "source": []
  }
 ],
 "metadata": {
  "kernelspec": {
   "display_name": "Python 3",
   "language": "python",
   "name": "python3"
  },
  "language_info": {
   "codemirror_mode": {
    "name": "ipython",
    "version": 3
   },
   "file_extension": ".py",
   "mimetype": "text/x-python",
   "name": "python",
   "nbconvert_exporter": "python",
   "pygments_lexer": "ipython3",
   "version": "3.7.1"
  }
 },
 "nbformat": 4,
 "nbformat_minor": 2
}
