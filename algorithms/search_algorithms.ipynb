{
 "cells": [
  {
   "cell_type": "code",
   "execution_count": 1,
   "metadata": {},
   "outputs": [],
   "source": [
    "data = [x for x in range(0,1000)]"
   ]
  },
  {
   "cell_type": "code",
   "execution_count": 2,
   "metadata": {},
   "outputs": [],
   "source": [
    "import time \n",
    "def timeit(method):\n",
    "    def timed(*args, **kw):\n",
    "        start = time.time()\n",
    "        result = method(*args, **kw)\n",
    "        stop = time.time()\n",
    "        name = method.__name__.upper()\n",
    "        timed = stop - start\n",
    "        return result,timed\n",
    "    return timed"
   ]
  },
  {
   "cell_type": "markdown",
   "metadata": {},
   "source": [
    "### Binary Search Tree"
   ]
  },
  {
   "cell_type": "code",
   "execution_count": 3,
   "metadata": {},
   "outputs": [],
   "source": [
    "@timeit\n",
    "def binary_search(data, target_value):\n",
    "    first = 0\n",
    "    last = len(data) - 1\n",
    "    while first <= last:\n",
    "        # get mid point of the list\n",
    "        middle = (first + last) // 2\n",
    "        if target_value==data[middle]:\n",
    "            return middle\n",
    "        elif target_value < data[middle]:\n",
    "            last = middle - 1\n",
    "        else:\n",
    "            first = middle + 1\n",
    "    raise ValueError('Value is not in the list')\n"
   ]
  },
  {
   "cell_type": "code",
   "execution_count": 4,
   "metadata": {},
   "outputs": [
    {
     "name": "stdout",
     "output_type": "stream",
     "text": [
      "999 6.9141387939453125e-06\n"
     ]
    }
   ],
   "source": [
    "index, binary_time = binary_search(data,999)\n",
    "print(index,binary_time)"
   ]
  },
  {
   "cell_type": "markdown",
   "metadata": {},
   "source": [
    "#### Linear Search Algorithms\n"
   ]
  },
  {
   "cell_type": "code",
   "execution_count": 5,
   "metadata": {},
   "outputs": [],
   "source": [
    "@timeit\n",
    "def linear_search(data, value):\n",
    "    for index,item in enumerate(data):\n",
    "        if item == value:\n",
    "            return index\n",
    "    raise ValueError('Value not found in the list')"
   ]
  },
  {
   "cell_type": "code",
   "execution_count": 6,
   "metadata": {},
   "outputs": [
    {
     "name": "stdout",
     "output_type": "stream",
     "text": [
      "999 8.58306884765625e-05\n"
     ]
    }
   ],
   "source": [
    "index, linear_time = linear_search(data,999)\n",
    "print(index,linear_time)"
   ]
  },
  {
   "cell_type": "code",
   "execution_count": 7,
   "metadata": {},
   "outputs": [
    {
     "name": "stdout",
     "output_type": "stream",
     "text": [
      "From the timing, binary search is 12.413793103448276 faster than linear search\n"
     ]
    }
   ],
   "source": [
    "print(\"From the timing, binary search is {0} faster than linear search\".format(linear_time/binary_time))"
   ]
  },
  {
   "cell_type": "code",
   "execution_count": null,
   "metadata": {},
   "outputs": [],
   "source": []
  }
 ],
 "metadata": {
  "kernelspec": {
   "display_name": "Python 3",
   "language": "python",
   "name": "python3"
  },
  "language_info": {
   "codemirror_mode": {
    "name": "ipython",
    "version": 3
   },
   "file_extension": ".py",
   "mimetype": "text/x-python",
   "name": "python",
   "nbconvert_exporter": "python",
   "pygments_lexer": "ipython3",
   "version": "3.7.1"
  }
 },
 "nbformat": 4,
 "nbformat_minor": 2
}
