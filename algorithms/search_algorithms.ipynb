{
 "cells": [
  {
   "cell_type": "code",
   "execution_count": 1,
   "metadata": {},
   "outputs": [],
   "source": [
    "data = [x for x in range(0,1000)]"
   ]
  },
  {
   "cell_type": "code",
   "execution_count": 2,
   "metadata": {},
   "outputs": [],
   "source": [
    "from timer import timeit"
   ]
  },
  {
   "cell_type": "markdown",
   "metadata": {},
   "source": [
    "### Binary Search Tree"
   ]
  },
  {
   "cell_type": "code",
   "execution_count": 3,
   "metadata": {},
   "outputs": [],
   "source": [
    "@timeit\n",
    "def binary_search(data, target_value):\n",
    "    first = 0\n",
    "    last = len(data) - 1\n",
    "    while first <= last:\n",
    "        # get mid point of the list\n",
    "        middle = (first + last) // 2\n",
    "        if target_value==data[middle]:\n",
    "            return middle\n",
    "        elif target_value < data[middle]:\n",
    "            last = middle - 1\n",
    "        else:\n",
    "            first = middle + 1\n",
    "    raise ValueError('Value is not in the list')\n"
   ]
  },
  {
   "cell_type": "code",
   "execution_count": 4,
   "metadata": {},
   "outputs": [
    {
     "name": "stdout",
     "output_type": "stream",
     "text": [
      "999 6.9141387939453125e-06\n"
     ]
    }
   ],
   "source": [
    "index, binary_time = binary_search(data,999)\n",
    "print(index,binary_time)"
   ]
  },
  {
   "cell_type": "markdown",
   "metadata": {},
   "source": [
    "### Linear Search Algorithms\n",
    "#### Time Complexity\n",
    "- O(n)"
   ]
  },
  {
   "cell_type": "code",
   "execution_count": 5,
   "metadata": {},
   "outputs": [],
   "source": [
    "@timeit\n",
    "def linear_search(data, value):\n",
    "    for index,item in enumerate(data):\n",
    "        if item == value:\n",
    "            return index\n",
    "    raise ValueError('Value not found in the list')"
   ]
  },
  {
   "cell_type": "code",
   "execution_count": 6,
   "metadata": {},
   "outputs": [
    {
     "name": "stdout",
     "output_type": "stream",
     "text": [
      "999 7.677078247070312e-05\n"
     ]
    }
   ],
   "source": [
    "index, linear_time = linear_search(data,999)\n",
    "print(index,linear_time)"
   ]
  },
  {
   "cell_type": "code",
   "execution_count": 7,
   "metadata": {},
   "outputs": [
    {
     "name": "stdout",
     "output_type": "stream",
     "text": [
      "From the timing, binary search is 11.10344827586207 faster than linear search\n"
     ]
    }
   ],
   "source": [
    "print(\"From the timing, binary search is {0} faster than linear search\".format(linear_time/binary_time))"
   ]
  },
  {
   "cell_type": "markdown",
   "metadata": {},
   "source": [
    "### Jump Search \n",
    "\n",
    "- It check fewer elements compared to  linear search by jumping ahead by fixed steps\n",
    "#### Time Complexity\n",
    "- O(√n)"
   ]
  },
  {
   "cell_type": "code",
   "execution_count": 8,
   "metadata": {},
   "outputs": [],
   "source": [
    "import math\n",
    "\n",
    "@timeit\n",
    "def jumpSearch(arr, x):\n",
    "    n = len(data)\n",
    "    step = math.sqrt(n)\n",
    "    prev = 0\n",
    "    while data[int(min(step, n) - 1)] < x:\n",
    "        prev = step\n",
    "        step += math.sqrt(n)\n",
    "        if prev >= n:\n",
    "            return -1\n",
    "    while data[int(prev)] < x:\n",
    "        prev += 1\n",
    "        if prev == min(step, n):\n",
    "            return -1\n",
    "\n",
    "    if data[int(prev)] == x:\n",
    "        return prev\n",
    "\n",
    "    return -1\n",
    "\n"
   ]
  },
  {
   "cell_type": "code",
   "execution_count": 9,
   "metadata": {},
   "outputs": [
    {
     "name": "stdout",
     "output_type": "stream",
     "text": [
      "999.306074652197 7.677078247070312e-05\n"
     ]
    }
   ],
   "source": [
    "start_no = data[2]\n",
    "index, jump_time = jumpSearch(data,999)\n",
    "print(index,linear_time)"
   ]
  },
  {
   "cell_type": "code",
   "execution_count": 10,
   "metadata": {},
   "outputs": [
    {
     "name": "stdout",
     "output_type": "stream",
     "text": [
      "From the timing, binary search is 7.551724137931035 faster than jump search\n"
     ]
    }
   ],
   "source": [
    "print(\"From the timing, binary search is {0} faster than jump search\".format(jump_time/binary_time))"
   ]
  }
 ],
 "metadata": {
  "kernelspec": {
   "display_name": "Python 3",
   "language": "python",
   "name": "python3"
  },
  "language_info": {
   "codemirror_mode": {
    "name": "ipython",
    "version": 3
   },
   "file_extension": ".py",
   "mimetype": "text/x-python",
   "name": "python",
   "nbconvert_exporter": "python",
   "pygments_lexer": "ipython3",
   "version": "3.7.1"
  }
 },
 "nbformat": 4,
 "nbformat_minor": 2
}
