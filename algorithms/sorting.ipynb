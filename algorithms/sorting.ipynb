{
 "cells": [
  {
   "cell_type": "code",
   "execution_count": 1,
   "metadata": {},
   "outputs": [],
   "source": [
    "import random\n",
    "from timer import timeit\n",
    "data = [random.randint(1,1000) for i in range(0,100)]"
   ]
  },
  {
   "cell_type": "markdown",
   "metadata": {},
   "source": [
    "#### Selection sort\n",
    "- Split the array into the sorted and unsorted part.\n",
    "- Find the smallest element in the the unsorted list and place it at the end of the sorted list\n",
    "- Repeat\n",
    "\n",
    "##### Time complextiy \n",
    "- O(n^2)\n",
    "\n",
    "##### Space complextiy \n",
    "- O(1)\n"
   ]
  },
  {
   "cell_type": "code",
   "execution_count": 2,
   "metadata": {},
   "outputs": [
    {
     "name": "stdout",
     "output_type": "stream",
     "text": [
      "[1, 7, 14, 17, 20, 34, 35, 49, 50, 72, 73, 77, 94, 113, 126, 135, 140, 155, 160, 161, 166, 239, 242, 251, 273, 278, 285, 287, 296, 300, 302, 307, 333, 352, 368, 372, 374, 390, 408, 420, 422, 425, 432, 438, 452, 472, 475, 508, 522, 544, 548, 554, 558, 580, 587, 599, 607, 619, 631, 632, 639, 662, 666, 671, 686, 688, 689, 691, 696, 707, 708, 724, 734, 744, 744, 749, 760, 764, 768, 803, 820, 850, 856, 861, 863, 878, 884, 885, 887, 926, 934, 950, 953, 958, 959, 962, 965, 970, 979, 985]\n",
      "\n",
      "0.0004038810729980469\n"
     ]
    }
   ],
   "source": [
    "@timeit\n",
    "def selection_sort(array):\n",
    "    # going through all the elements in the arrays\n",
    "    for pivot in range(len(array)):\n",
    "        min_index = pivot\n",
    "        # find the min_index in the remaining unsorted list\n",
    "        for j in range(pivot+1, len(array)):\n",
    "            if array[j]<array[min_index]:\n",
    "                min_index = j\n",
    "        # swap the minimum element with the pivot element\n",
    "        array[min_index], array[pivot] = array[pivot], array[min_index]\n",
    "    return array\n",
    "\n",
    "array,time = selection_sort(data)\n",
    "\n",
    "print(array,time,sep='\\n\\n')"
   ]
  },
  {
   "cell_type": "markdown",
   "metadata": {},
   "source": [
    "#### Bubble sort\n",
    "- Repeateded swap unsorted elements if they are in the wrong order\n",
    "\n",
    "##### Time complextiy \n",
    "- O(n*n)"
   ]
  },
  {
   "cell_type": "code",
   "execution_count": 3,
   "metadata": {},
   "outputs": [
    {
     "name": "stdout",
     "output_type": "stream",
     "text": [
      "[1, 7, 14, 17, 20, 34, 35, 49, 50, 72, 73, 77, 94, 113, 126, 135, 140, 155, 160, 161, 166, 239, 242, 251, 273, 278, 285, 287, 296, 300, 302, 307, 333, 352, 368, 372, 374, 390, 408, 420, 422, 425, 432, 438, 452, 472, 475, 508, 522, 544, 548, 554, 558, 580, 587, 599, 607, 619, 631, 632, 639, 662, 666, 671, 686, 688, 689, 691, 696, 707, 708, 724, 734, 744, 744, 749, 760, 764, 768, 803, 820, 850, 856, 861, 863, 878, 884, 885, 887, 926, 934, 950, 953, 958, 959, 962, 965, 970, 979, 985]\n",
      "\n",
      "0.0004150867462158203\n"
     ]
    }
   ],
   "source": [
    "@timeit\n",
    "def bubbleSort(data):\n",
    "    n = len(data)\n",
    "    for i in range(n):\n",
    "        for j in range(0, n - i - 1):\n",
    "            if data[j] > data[j + 1]:\n",
    "                data[j], data[j + 1] = data[j + 1], data[j]\n",
    "    return data\n",
    "array,time  = bubbleSort(data)\n",
    "print(array,time,sep='\\n\\n')\n"
   ]
  },
  {
   "cell_type": "markdown",
   "metadata": {},
   "source": [
    "## Insertion Sort\n",
    "- Builds the final sorted array (or list) one item at a time\n",
    "- It is much less efficient on large lists \n",
    "\n",
    "### Time Complexity\n",
    "- O(n*2)"
   ]
  },
  {
   "cell_type": "code",
   "execution_count": 4,
   "metadata": {},
   "outputs": [
    {
     "name": "stdout",
     "output_type": "stream",
     "text": [
      "[1, 7, 14, 17, 20, 34, 35, 49, 50, 72, 73, 77, 94, 113, 126, 135, 140, 155, 160, 161, 166, 239, 242, 251, 273, 278, 285, 287, 296, 300, 302, 307, 333, 352, 368, 372, 374, 390, 408, 420, 422, 425, 432, 438, 452, 472, 475, 508, 522, 544, 548, 554, 558, 580, 587, 599, 607, 619, 631, 632, 639, 662, 666, 671, 686, 688, 689, 691, 696, 707, 708, 724, 734, 744, 744, 749, 760, 764, 768, 803, 820, 850, 856, 861, 863, 878, 884, 885, 887, 926, 934, 950, 953, 958, 959, 962, 965, 970, 979, 985]\n",
      "\n",
      "1.7881393432617188e-05\n"
     ]
    }
   ],
   "source": [
    "@timeit\n",
    "def insertionSort(data): \n",
    "    for i in range(1, len(data)): \n",
    "        key = array[i] \n",
    "        j = i-1\n",
    "        while j >= 0 and key < data[j] : \n",
    "                data[j + 1] = data[j] \n",
    "                j -= 1\n",
    "        data[j + 1] = key \n",
    "    return data\n",
    "array,time  = insertionSort(data)\n",
    "print(array,time,sep='\\n\\n')"
   ]
  },
  {
   "cell_type": "markdown",
   "metadata": {},
   "source": [
    "## Quick Sort\n",
    "- Uses the divide and conquer\n",
    "- It picks an element as pivot and partitions the given array around the picked pivot.\n",
    "\n",
    "## Time Complexity\n",
    "- best case O(nlog n)\n",
    "- worst case O(n*2)"
   ]
  },
  {
   "cell_type": "code",
   "execution_count": 5,
   "metadata": {},
   "outputs": [
    {
     "name": "stdout",
     "output_type": "stream",
     "text": [
      "[1, 7, 14, 17, 20, 34, 35, 49, 50, 72, 73, 77, 94, 113, 126, 135, 140, 155, 160, 161, 166, 239, 242, 251, 273, 278, 285, 287, 296, 300, 302, 307, 333, 352, 368, 372, 374, 390, 408, 420, 422, 425, 432, 438, 452, 472, 475, 508, 522, 544, 548, 554, 558, 580, 587, 599, 607, 619, 631, 632, 639, 662, 666, 671, 686, 688, 689, 691, 696, 707, 708, 724, 734, 744, 744, 749, 760, 764, 768, 803, 820, 850, 856, 861, 863, 878, 884, 885, 887, 926, 934, 950, 953, 958, 959, 962, 965, 970, 979, 985]\n",
      "\n",
      "0.001474142074584961\n"
     ]
    }
   ],
   "source": [
    "def partition(data, low, high):\n",
    "    i = (low - 1)\n",
    "    pivot = data[high]\n",
    "\n",
    "    for j in range(low, high):\n",
    "        if data[j] <= pivot:\n",
    "            i = i + 1\n",
    "            data[i], data[j] = data[j], data[i]\n",
    "    data[i + 1], data[high] = data[high], data[i + 1]\n",
    "    return (i + 1)\n",
    "\n",
    "\n",
    "@timeit\n",
    "def quickSort(data, low, high):\n",
    "    if low < high:\n",
    "        part = partition(data, low, high)\n",
    "        quickSort(data, low, part - 1)\n",
    "        quickSort(data, part + 1, high)\n",
    "    return data\n",
    "\n",
    "\n",
    "n = len(data)\n",
    "array, time = quickSort(data, 0, n - 1)\n",
    "print(array, time, sep='\\n\\n')\n"
   ]
  }
 ],
 "metadata": {
  "kernelspec": {
   "display_name": "Python 3",
   "language": "python",
   "name": "python3"
  },
  "language_info": {
   "codemirror_mode": {
    "name": "ipython",
    "version": 3
   },
   "file_extension": ".py",
   "mimetype": "text/x-python",
   "name": "python",
   "nbconvert_exporter": "python",
   "pygments_lexer": "ipython3",
   "version": "3.7.1"
  }
 },
 "nbformat": 4,
 "nbformat_minor": 2
}
