{
 "cells": [
  {
   "cell_type": "markdown",
   "metadata": {},
   "source": [
    "#### Selection sort\n",
    "- Split the array into the sorted and unsorted part.\n",
    "- Find the smallest element in the the unsorted list and place it at the end of the sorted list\n",
    "- Repeat\n",
    "\n",
    "##### Time complextiy \n",
    "- O(n^2)\n",
    "\n",
    "##### Space complextiy \n",
    "- O(1)\n"
   ]
  },
  {
   "cell_type": "code",
   "execution_count": 6,
   "metadata": {},
   "outputs": [
    {
     "data": {
      "text/plain": [
       "[1, 2, 2, 5, 5, 6, 7, 8, 23, 43, 234, 798]"
      ]
     },
     "execution_count": 6,
     "metadata": {},
     "output_type": "execute_result"
    }
   ],
   "source": [
    "def selection_sort(array):\n",
    "    # going through all the elements in the arrays\n",
    "    for pivot in range(len(array)):\n",
    "        min_index = pivot\n",
    "        # find the min_index in the remaining unsorted list\n",
    "        for j in range(pivot+1, len(array)):\n",
    "            if array[j]<array[min_index]:\n",
    "                min_index = j\n",
    "        # swap the minimum element with the pivot element\n",
    "        array[min_index], array[pivot] = array[pivot], array[min_index]\n",
    "    return array\n",
    "\n",
    "selection_sort([2,5,2,6,7,8,23,798,5,1,43,234])\n"
   ]
  },
  {
   "cell_type": "markdown",
   "metadata": {},
   "source": [
    "#### Bubble sort\n",
    "- Repeateded swap unsorted elements if they are in the wrong order\n",
    "\n",
    "##### Time complextiy \n",
    "\n",
    "\n",
    "##### Space complextiy \n"
   ]
  }
 ],
 "metadata": {
  "kernelspec": {
   "display_name": "Python 3",
   "language": "python",
   "name": "python3"
  },
  "language_info": {
   "codemirror_mode": {
    "name": "ipython",
    "version": 3
   },
   "file_extension": ".py",
   "mimetype": "text/x-python",
   "name": "python",
   "nbconvert_exporter": "python",
   "pygments_lexer": "ipython3",
   "version": "3.7.1"
  }
 },
 "nbformat": 4,
 "nbformat_minor": 2
}
