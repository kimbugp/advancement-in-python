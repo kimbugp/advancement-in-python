{
 "cells": [
  {
   "cell_type": "markdown",
   "metadata": {},
   "source": []
  },
  {
   "cell_type": "code",
   "execution_count": null,
   "metadata": {},
   "outputs": [],
   "source": [
    "import array\n",
    "\n",
    "\n",
    "class Piles():\n",
    "\n",
    "    piles = []\n",
    "    player = 0\n",
    "\n",
    "    def __init__(self, piles):\n",
    "        self.piles = array.array('i', piles)\n",
    "\n",
    "    def remove(self, column, value):\n",
    "        self.piles[column] -= value\n",
    "        self.player = 1 - self.player\n",
    "        return self.piles\n",
    "\n",
    "    def max(self):\n",
    "        return max(self.piles)\n",
    "\n",
    "    def __repr__(self):\n",
    "        return str(self.piles)\n",
    "\n",
    "\n",
    "def validate_input(piles, k):\n",
    "    if not 1 <= len(piles) <= 1000:\n",
    "        raise ValueError(\"Piles must be less than 1000\")\n",
    "    if not 1 <= max(piles) <= 100000:\n",
    "        raise ValueError(\"Piles values must be less than 100000\")\n",
    "\n",
    "    if not 1 <= k <= 1000:\n",
    "        raise ValueError(\"k must be less than 1000\")\n",
    "\n",
    "\n",
    "def gameOfPiles(piles, k):\n",
    "    validate_input(piles, k)\n",
    "    players = ['Alex', 'Sam']\n",
    "    piles = Piles(piles)\n",
    "    while piles.max() >= k:\n",
    "        multiples = list(range(0, piles.max() + 1, k))\n",
    "        index = piles.piles.index(piles.max())\n",
    "        piles.remove(index, multiples[-1])\n",
    "        print(\"====>\", piles.max(), \"==>\", piles, \"===>\", multiples)\n",
    "    while set(piles.piles) != {0}:\n",
    "        index = piles.piles.index(piles.max())\n",
    "        piles.remove(index, 1)\n",
    "\n",
    "    winner = players[piles.player]\n",
    "    return f\"{winner} wins the game of {len(piles.piles)} pile(s).\"\n",
    "\n",
    "\n",
    "print(gameOfPiles([2, 300, 4000, 6000, 12000], 1000))\n",
    "\n"
   ]
  }
 ],
 "metadata": {
  "file_extension": ".py",
  "kernelspec": {
   "display_name": "Python 3",
   "language": "python",
   "name": "python3"
  },
  "language_info": {
   "codemirror_mode": {
    "name": "ipython",
    "version": 3
   },
   "file_extension": ".py",
   "mimetype": "text/x-python",
   "name": "python",
   "nbconvert_exporter": "python",
   "pygments_lexer": "ipython3",
   "version": "3.7.1"
  },
  "mimetype": "text/x-python",
  "name": "python",
  "npconvert_exporter": "python",
  "pygments_lexer": "ipython3",
  "version": 3
 },
 "nbformat": 4,
 "nbformat_minor": 2
}
