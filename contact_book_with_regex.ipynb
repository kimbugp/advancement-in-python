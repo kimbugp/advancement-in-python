{
 "cells": [
  {
   "cell_type": "code",
   "execution_count": 2,
   "metadata": {},
   "outputs": [],
   "source": [
    "import re\n",
    "data = '''Simon Peter, Kimbugwe  simon@gmail.com software developer, andela 344-224-21334\n",
    "Amos, Welike kimfgn@gmail.com software developer, andela 344-345-3244\n",
    "Ken, Amos peter@gmail.com software developer, andela 008-224-3304\n",
    "'''\n",
    "contact_regex = re.compile(\n",
    "    '''\n",
    "    (?P<name>[\\w]+,\\s[-\\w]+)\\s  # last and first name\n",
    "    (?P<email>[\\w\\d.+]+@[-\\w\\d.]+)\\s # email\n",
    "    (?P<occupation>[\\w\\s]+,\\s[\\w\\s.]+)\\s # occupation\n",
    "    (?P<phonenumber>\\d{3}-\\s?\\d{3}-\\d{4}) # phone number\n",
    "    ''',\n",
    "    re.X | re.M\n",
    ")\n",
    "\n",
    "contact_regex.finditer(data)\n",
    "\n",
    "contacts = [item.groupdict() for item in list(contact_regex.finditer(data))]"
   ]
  },
  {
   "cell_type": "code",
   "execution_count": 3,
   "metadata": {},
   "outputs": [
    {
     "name": "stdout",
     "output_type": "stream",
     "text": [
      "[{'name': 'Amos, Welike', 'email': 'kimfgn@gmail.com', 'occupation': 'software developer, andela', 'phonenumber': '344-345-3244'}, {'name': 'Ken, Amos', 'email': 'peter@gmail.com', 'occupation': 'software developer, andela', 'phonenumber': '008-224-3304'}]\n"
     ]
    }
   ],
   "source": [
    "print(contacts)"
   ]
  },
  {
   "cell_type": "code",
   "execution_count": null,
   "metadata": {},
   "outputs": [],
   "source": []
  }
 ],
 "metadata": {
  "kernelspec": {
   "display_name": "Python 3",
   "language": "python",
   "name": "python3"
  },
  "language_info": {
   "codemirror_mode": {
    "name": "ipython",
    "version": 3
   },
   "file_extension": ".py",
   "mimetype": "text/x-python",
   "name": "python",
   "nbconvert_exporter": "python",
   "pygments_lexer": "ipython3",
   "version": "3.7.1"
  }
 },
 "nbformat": 4,
 "nbformat_minor": 2
}
