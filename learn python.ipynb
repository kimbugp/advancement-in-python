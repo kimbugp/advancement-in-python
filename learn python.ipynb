{
 "cells": [
  {
   "cell_type": "markdown",
   "metadata": {},
   "source": [
    "### Learning more python \n",
    "#### Time "
   ]
  },
  {
   "cell_type": "code",
   "execution_count": 1,
   "metadata": {},
   "outputs": [
    {
     "name": "stdout",
     "output_type": "stream",
     "text": [
      "Time since epoch to now:  1560112221.224983\n"
     ]
    }
   ],
   "source": [
    "import time\n",
    "ticks = time.time()\n",
    "print(\"Time since epoch to now: \",ticks)"
   ]
  },
  {
   "cell_type": "markdown",
   "metadata": {},
   "source": [
    "#### Local Time"
   ]
  },
  {
   "cell_type": "code",
   "execution_count": 2,
   "metadata": {},
   "outputs": [
    {
     "name": "stdout",
     "output_type": "stream",
     "text": [
      "Local time: Sun Jun  9 23:30:21 2019\n"
     ]
    }
   ],
   "source": [
    "localtime = time.asctime(time.localtime(time.time()))\n",
    "print(\"Local time:\",localtime)"
   ]
  },
  {
   "cell_type": "markdown",
   "metadata": {},
   "source": [
    "#### Calender \n",
    "##### Get all leap years in a given range"
   ]
  },
  {
   "cell_type": "code",
   "execution_count": 3,
   "metadata": {},
   "outputs": [
    {
     "name": "stdout",
     "output_type": "stream",
     "text": [
      "[2000, 2004, 2008, 2012, 2016, 2020, 2024, 2028, 2032, 2036, 2040, 2044, 2048, 2052, 2056, 2060, 2064, 2068, 2072, 2076, 2080, 2084, 2088, 2092, 2096]\n"
     ]
    }
   ],
   "source": [
    "import calendar\n",
    "\n",
    "def get_leap_years(start: int, stop: int):\n",
    "    if start > stop:\n",
    "        start, stop = stop, start\n",
    "    leap_years = filter(lambda x: calendar.isleap(x), range(start, stop, +1))\n",
    "    return list(leap_years)\n",
    "\n",
    "print(get_leap_years(1999, 2100))\n"
   ]
  },
  {
   "cell_type": "markdown",
   "metadata": {},
   "source": [
    "#### Get weekends"
   ]
  },
  {
   "cell_type": "code",
   "execution_count": 4,
   "metadata": {},
   "outputs": [
    {
     "name": "stdout",
     "output_type": "stream",
     "text": [
      "['10-06-2019', '11-06-2019', '12-06-2019', '13-06-2019', '14-06-2019', '17-06-2019', '18-06-2019', '19-06-2019', '20-06-2019', '21-06-2019', '24-06-2019', '25-06-2019', '26-06-2019', '27-06-2019', '28-06-2019', '01-07-2019', '02-07-2019', '03-07-2019', '04-07-2019', '05-07-2019', '08-07-2019']\n"
     ]
    }
   ],
   "source": [
    "import datetime\n",
    "\n",
    "def get_weekends_days(start: str, stop: str):\n",
    "    try:\n",
    "        _start, _stop = map(\n",
    "            lambda x: datetime.datetime.strptime(x, '%d-%m-%Y'), [start, stop])\n",
    "    except Exception as error:\n",
    "        raise error\n",
    "    if _start > _stop:\n",
    "        start, stop = stop, start\n",
    "    delta = _stop - _start\n",
    "\n",
    "    weekends = filter(\n",
    "        lambda day: datetime.datetime.weekday(day) not in [5, 6],\n",
    "        map(lambda i: _start + datetime.timedelta(days=i), range(delta.days)))\n",
    "    return map(lambda day: datetime.datetime.strftime(day, '%d-%m-%Y'),\n",
    "               weekends)\n",
    "\n",
    "\n",
    "print(list(get_weekends_days('09-06-2019', '09-07-2019')))"
   ]
  },
  {
   "cell_type": "code",
   "execution_count": null,
   "metadata": {},
   "outputs": [],
   "source": []
  }
 ],
 "metadata": {
  "file_extension": ".py",
  "kernelspec": {
   "display_name": "Python 3",
   "language": "python",
   "name": "python3"
  },
  "language_info": {
   "codemirror_mode": {
    "name": "ipython",
    "version": 3
   },
   "file_extension": ".py",
   "mimetype": "text/x-python",
   "name": "python",
   "nbconvert_exporter": "python",
   "pygments_lexer": "ipython3",
   "version": "3.7.1"
  },
  "mimetype": "text/x-python",
  "name": "python",
  "npconvert_exporter": "python",
  "pygments_lexer": "ipython3",
  "version": 3
 },
 "nbformat": 4,
 "nbformat_minor": 2
}
