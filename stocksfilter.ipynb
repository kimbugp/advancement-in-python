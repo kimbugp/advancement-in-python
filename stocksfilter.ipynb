{
 "cells": [
  {
   "cell_type": "code",
   "execution_count": 1,
   "metadata": {},
   "outputs": [
    {
     "name": "stdout",
     "output_type": "stream",
     "text": [
      "11-April-2001 3476.41 3325.46\n",
      "18-April-2001 3311.2 3438.75\n",
      "25-April-2001 3586.94 3600.83\n",
      "2-May-2001 3565.53 3538.42\n",
      "9-May-2001 3580.37 3586.58\n",
      "23-May-2001 3640.8 3674.54\n",
      "30-May-2001 3745.57 3662.04\n",
      "6-June-2001 3473.32 3457.31\n",
      "13-June-2001 3499.32 3501.61\n",
      "20-June-2001 3410.1 3406.05\n",
      "27-June-2001 3407.68 3411.64\n",
      "11-July-2001 3328.37 3376.21\n",
      "18-July-2001 3434.94 3383.41\n",
      "8-August-2001 3317.51 3302.32\n"
     ]
    }
   ],
   "source": [
    "import datetime\n",
    "import json\n",
    "import urllib.request\n",
    "import time\n",
    "\n",
    "\n",
    "def data_filter(firstDate, lastDate, weekDay):\n",
    "    def myfilter(data):\n",
    "        day = data.get(\"date\")\n",
    "        day = datetime.datetime.strptime(day, '%d-%B-%Y')\n",
    "        week_day = datetime.datetime.weekday(day)\n",
    "        if firstDate <= day <= lastDate and week_day == weekDay:\n",
    "            return True\n",
    "        return False\n",
    "\n",
    "    return myfilter\n",
    "\n",
    "\n",
    "def openAndClosePrices(firstDate, lastDate, weekDay):\n",
    "    url = \"https://jsonmock.hackerrank.com/api/stocks?page={0}\"\n",
    "    try:\n",
    "        firstDate, lastDate = map(\n",
    "            lambda x: datetime.datetime.strptime(x, '%d-%B-%Y'),\n",
    "            [firstDate, lastDate])\n",
    "        weekDay = time.strptime(weekDay, \"%A\").tm_wday\n",
    "    except ValueError:\n",
    "        raise ValueError(\"Enter date in the format dd-MM-YY ie 15-August-2001\")\n",
    "\n",
    "    data = json.load(urllib.request.urlopen(url.format(1)))\n",
    "    pages = data.get(\"total_pages\")\n",
    "    iterator = get_data(url, pages)\n",
    "    for page in range(pages):\n",
    "        data = next(iterator)\n",
    "        filter1 = data_filter(firstDate, lastDate, weekDay)\n",
    "        response = list(filter(filter1, data.get(\"data\")))\n",
    "        for value in response:\n",
    "            print(value['date'], value['open'], value['close'], sep=\" \")\n",
    "\n",
    "\n",
    "def get_data(url, pages):\n",
    "    n = 1\n",
    "    while n <= pages:\n",
    "        yield json.load(urllib.request.urlopen(url.format(n)))\n",
    "        n += 1\n",
    "\n",
    "\n",
    "try:\n",
    "    _firstDate = '26-March-2001'\n",
    "except:\n",
    "    _firstDate = None\n",
    "\n",
    "try:\n",
    "    _lastDate = \"15-August-2001\"\n",
    "except:\n",
    "    _lastDate = None\n",
    "\n",
    "try:\n",
    "    _weekDay = \"Wednesday\"\n",
    "except:\n",
    "    _weekDay = None\n",
    "\n",
    "openAndClosePrices(_firstDate, _lastDate, _weekDay)"
   ]
  },
  {
   "cell_type": "code",
   "execution_count": null,
   "metadata": {},
   "outputs": [],
   "source": []
  }
 ],
 "metadata": {
  "file_extension": ".py",
  "kernelspec": {
   "display_name": "Python 3",
   "language": "python",
   "name": "python3"
  },
  "language_info": {
   "codemirror_mode": {
    "name": "ipython",
    "version": 3
   },
   "file_extension": ".py",
   "mimetype": "text/x-python",
   "name": "python",
   "nbconvert_exporter": "python",
   "pygments_lexer": "ipython3",
   "version": "3.7.1"
  },
  "mimetype": "text/x-python",
  "name": "python",
  "npconvert_exporter": "python",
  "pygments_lexer": "ipython3",
  "version": 3
 },
 "nbformat": 4,
 "nbformat_minor": 2
}
